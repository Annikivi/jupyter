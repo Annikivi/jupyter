{
 "cells": [
  {
   "cell_type": "markdown",
   "metadata": {},
   "source": [
    "# Basics of Jupyter "
   ]
  },
  {
   "cell_type": "markdown",
   "metadata": {},
   "source": [
    "## First fetch the source and start JupyterLab\n",
    "\n",
    "```bash\n",
    "$ git clone https://github.com/coderefinery/jupyter.git\n",
    "$ cd jupyter \n",
    "$ jupyter-lab\n",
    "```"
   ]
  },
  {
   "cell_type": "markdown",
   "metadata": {},
   "source": [
    "## Some history\n",
    "- In 2014, Fernando Pérez announced a spin-off project from IPython called Project Jupyter, moving the notebook and other language-agnostic parts of IPython to Jupyter\n",
    "- JupyterLab is the next generation interface for Project Jupyter, the first stable release was announced in February 2018.\n",
    "- [The popularity of Jupyter is steadily increasing across many sciences](https://www.nature.com/articles/d41586-018-07196-1).\n",
    "- The name \"Jupyter\" derives from Julia+Python+R, but today Jupyter kernels exist for [dozens of programming languages](https://github.com/jupyter/jupyter/wiki/Jupyter-kernels)\n",
    "- Galileo's publication in a pamphlet in 1610 in Sidereus Nuncius, one of the first notebooks!  \n",
    "<img src=\"http://media.gettyimages.com/photos/pages-from-sidereus-nuncius-magna-by-galileo-galilei-a-book-of-and-picture-id90732970\" width=\"500\">\n",
    "\n",
    "- Project Jupyter consists of several very large open source projects. For example, JupyterLab has: \n",
    "    - ~4 years of development\n",
    "    - ~60 separate components\n",
    "    - ~150 contributors \n",
    "    - ~14000 commits\n",
    "    - currently a beta release, but stable interface and developer API (\"user 1.0\")"
   ]
  },
  {
   "cell_type": "markdown",
   "metadata": {},
   "source": [
    "## A case example \n",
    "\n",
    "Let us have a look at the analysis published together with the discovery of gravitational waves. [This page](https://losc.ligo.org/tutorials/)\n",
    "lists the available analyses and presents several options to browse them: \n",
    "- Download zip-file with source and data\n",
    "- Open the notebooks on [Microsoft Azure Notebooks](https://notebooks.azure.com/losc/libraries/tutorials) platform.\n",
    "- Open the notebooks on [mybinder](http://beta.mybinder.org/repo/losc-tutorial/quickview).\n",
    "\n",
    "Since Microsoft Azure requires a login to run the notebooks live (which is still free), we can try running the \"Quickview Notebook\" on mybinder, [here's a direct link](http://beta.mybinder.org/repo/losc-tutorial/quickview).\n",
    "\n",
    "> For further inspiration, head over to the [Gallery of interesting Jupyter Notebooks](https://github.com/jupyter/jupyter/wiki/A-gallery-of-interesting-Jupyter-Notebooks)\n"
   ]
  },
  {
   "cell_type": "markdown",
   "metadata": {},
   "source": [
    "## Discussion point: Integrated development environments\n",
    "\n",
    "- What tools do you use for developing code?\n",
    "- How do you compile or execute code?\n",
    "- How do you debug code?\n",
    "\n",
    "Some people prefer terminal-based text editors for writing code (e.g. vi/vim, nano, emacs, etc).\n",
    "Others prefer integrated development environments (IDEs), which can bring \"everything\" one needs for productive programming to one's fingertips. \n",
    "Yet others prefer code editors, which are light-weight IDEs.\n",
    "\n",
    "| Terminal editor | Code editor | IDE |\n",
    "| --------------- | ----------- | --- |\n",
    "| Good command line skills are needed for effectively using terminal editors | If you use multiple programming languages then code editors offer good support | If you are working with large code bases, then you should definitely checkout the IDE suitable for your programming language |\n",
    "| Continue using Emacs and Vim, if you are already proficient | Both IDE and code editors share common features such as code completion, hints, highlighting sections of code | IDEs offer rich support for Debugging and Code refactoring |\n",
    "| Supports multiple programming languages | Supports multiple programming languages | Focused on a single language |\n",
    "\n",
    "\n",
    "**JupyterLab is sort of an IDE, although mostly just for Jupyter Notebooks.**\n",
    "- When do you think it's appropriate/useful to use Jupyter Notebooks?\n"
   ]
  },
  {
   "cell_type": "markdown",
   "metadata": {},
   "source": [
    "## Navigating JupyterLab\n",
    "\n",
    "- Left-hand menu (toggle it with `Ctrl(⌘)-b`):\n",
    "     - File browser\n",
    "         - New launcher\n",
    "         - New folder\n",
    "         - Upload files\n",
    "     - Running terminals and kernels\n",
    "     - Command palette\n",
    "     - Cell inspector\n",
    "     - Open tabs    \n",
    "     - Git integration (if `jupyterlab-git` extension installed)\n",
    "     - GitHub browser (if `jupyterlab-github` extension installed)\n",
    "- Fully-fledged terminal \n",
    "- Text editor for source code in different languages\n",
    "- Code console to run code interactively in a kernel with rich output and linear order\n",
    "- Modular interface\n",
    "     - Notebooks, terminals, consoles, data files etc can be moved around\n",
    "- Classical notebook style is available under the Help menu\n",
    " "
   ]
  },
  {
   "cell_type": "markdown",
   "metadata": {},
   "source": [
    "## Cells\n",
    "\n",
    "- **Markdown cells** contain formatted text written in Markdown \n",
    "- **Code cells** contain code to be interpreted by the *kernel* (Python, R, Julia, Octave/Matlab...)\n",
    "\n",
    "![Components](img/notebook_components.png)"
   ]
  },
  {
   "cell_type": "markdown",
   "metadata": {},
   "source": [
    "## Markdown cells\n",
    "\n",
    "This cell contains simple \n",
    "[markdown](https://daringfireball.net/projects/markdown/syntax), a simple language for writing text that can be automatically converted to other formats, e.g. HTML, LaTeX or any of a number of others.\n",
    "\n",
    "**Bold**, *italics*, **_combined_**, ~~strikethrough~~, `inline code`.\n",
    "\n",
    "* bullet points\n",
    "\n",
    "or\n",
    "\n",
    "1. numbered\n",
    "3. lists\n",
    "\n",
    "**Equations:**   \n",
    "inline $e^{i\\pi} + 1 = 0$\n",
    "or on new line  \n",
    "$$e^{i\\pi} + 1 = 0$$\n",
    "\n",
    "Images ![CodeRefinery Logo](img/coderefinery.png)\n",
    "\n",
    "Links:  \n",
    "[One of many markdown cheat-sheets](https://github.com/adam-p/markdown-here/wiki/Markdown-Cheatsheet#emphasis)\n"
   ]
  },
  {
   "cell_type": "markdown",
   "metadata": {},
   "source": [
    "## Code cells"
   ]
  },
  {
   "cell_type": "code",
   "execution_count": null,
   "metadata": {},
   "outputs": [],
   "source": [
    "# a code cell can run statements of code.\n",
    "# when you run this cell, the output is sent \n",
    "# from the web page to a back-end process, run \n",
    "# and the results are displayed to you\n",
    "print(\"hello world\")"
   ]
  },
  {
   "cell_type": "markdown",
   "metadata": {},
   "source": [
    "### Shell commands\n",
    "  - You can run shell commands by prepending with !\n",
    "    - On Windows, GitBash needs to have the following option enabled:   \n",
    "    `Use Git and the optional Unix tools from the Windows Command Prompt` \n",
    "  - Make sure your cell command doesn't require interaction"
   ]
  },
  {
   "cell_type": "code",
   "execution_count": null,
   "metadata": {},
   "outputs": [],
   "source": [
    "!echo \"hello\""
   ]
  },
  {
   "cell_type": "markdown",
   "metadata": {},
   "source": [
    " - Common linux shell commands are also available as *magics*: %ls, %pwd, %mkdir, %cp, %mv, %cd, *etc.*. "
   ]
  },
  {
   "cell_type": "markdown",
   "metadata": {},
   "source": [
    "## Magics"
   ]
  },
  {
   "cell_type": "markdown",
   "metadata": {},
   "source": [
    "Magics are a simple command language which significantly extend the power of Jupyter "
   ]
  },
  {
   "cell_type": "markdown",
   "metadata": {},
   "source": [
    "Two kinds of magics:\n",
    "\n",
    "  - **Line magics**: commands prepended by one % character and whose arguments only extend to the end of the current line.\n",
    "  - **Cell magics**: use two percent characters as a marker (%%), receive as argument the whole cell (must be used as the first line in a cell)"
   ]
  },
  {
   "cell_type": "markdown",
   "metadata": {},
   "source": [
    "`%lsmagic` lists all available line and cell magics:"
   ]
  },
  {
   "cell_type": "code",
   "execution_count": null,
   "metadata": {},
   "outputs": [],
   "source": [
    "%lsmagic"
   ]
  },
  {
   "cell_type": "markdown",
   "metadata": {},
   "source": [
    "`%quickref` shows a quick reference card: "
   ]
  },
  {
   "cell_type": "code",
   "execution_count": null,
   "metadata": {},
   "outputs": [],
   "source": [
    "%quickref"
   ]
  },
  {
   "cell_type": "markdown",
   "metadata": {},
   "source": [
    "Question mark shows help:"
   ]
  },
  {
   "cell_type": "code",
   "execution_count": null,
   "metadata": {},
   "outputs": [],
   "source": [
    "%sx?"
   ]
  },
  {
   "cell_type": "markdown",
   "metadata": {},
   "source": [
    "Additional magics can also be installed or created."
   ]
  },
  {
   "cell_type": "markdown",
   "metadata": {},
   "source": [
    "## Interactive plotting"
   ]
  },
  {
   "cell_type": "markdown",
   "metadata": {},
   "source": [
    "Jupyter supports interactive plotting with matplotlib and other visualization libraries (including for other languages). "
   ]
  },
  {
   "cell_type": "code",
   "execution_count": null,
   "metadata": {},
   "outputs": [],
   "source": [
    "import numpy as np\n",
    "import matplotlib.pyplot as plt\n",
    "%matplotlib inline\n",
    "\n",
    "x = np.linspace(0,2*np.pi,100)\n",
    "y = np.sin(x)\n",
    "plt.plot(x,y, 'r-')\n",
    "plt.show()"
   ]
  },
  {
   "cell_type": "markdown",
   "metadata": {},
   "source": [
    "## Keyboard shortcuts \n",
    "\n",
    "Some shortcuts only work in Command or Edit mode. \n",
    "> Warning: it can happen that these shortcuts interfer with browser shortcuts.\n",
    "\n",
    "| Cell shortcuts | &nbsp; | Notebook/UI shortcuts | &nbsp; |\n",
    "| -------- | ------ | -------- | ------ |\n",
    "| **Shortcut** | **Effect** | **Shortcut** | **Effect** |\n",
    "| `Enter` | Enter Edit mode | `Ctrl(⌘)`-`s` | Save notebook |\n",
    "|`Escape` or `Ctrl`-`m` | Enter Command mode | `Shift`-`Ctrl(⌘)`-`s` | Save notebook as |\n",
    "| `Ctrl`-`Enter` | Run the cell | `Ctrl`-q | Close notebook |\n",
    "| `Shift`-`Enter`| Run the cell and select the cell below | `Ctrl(⌘)`-`b` | Toggle left-hand menu |\n",
    "| `Alt`-`Enter`| Run the cell and insert a new cell below | `Shift`-`Ctrl(⌘)`-`c` | Open command palette |\n",
    "| `m` and `y` | Toggle between Markdown and Code cells | `Shift`-`Ctrl(⌘)`-d | Toggle single-document mode |\n",
    "| `d-d` | Delete a cell | &nbsp; | &nbsp;|\n",
    "| `z` | Undo deleting  | &nbsp;| &nbsp;|\n",
    "| `a/b` | Insert cells above/below current cell  | &nbsp;| &nbsp;|\n",
    "| `x/c/v` | Cut/copy/paste cells |&nbsp; | &nbsp;|\n",
    "| `Up/Down` or `k/j` | Select previous/next cells  | &nbsp;| &nbsp;|\n"
   ]
  },
  {
   "cell_type": "markdown",
   "metadata": {},
   "source": [
    "## Version control of notebooks\n",
    "Jupyter Notebooks are stored in json format, which doesn't play nicely with Git, but the [nbdime](http://nbdime.readthedocs.io/en/latest/) package provides \"content-aware\" diffing and merging.\n",
    "- Can be installed with `pip install nbdime`. \n",
    "- `git diff` and `git merge` will use nbdime's diff and merge for notebook files, but leave Git's behavior unchanged for non-notebook files.\n",
    "\n",
    "Two additional packages increase the Git integration even further:\n",
    "- [jupyterlab-git](https://github.com/jupyterlab/jupyterlab-git) is a JupyterLab extension for version control using Git, and\n",
    "- [jupyterlab/github](https://www.npmjs.com/package/@jupyterlab/github) is a JupyterLab extension for accessing GitHub repositories.\n",
    "\n",
    "All three extension can be used from within the JupyterLab interface."
   ]
  },
  {
   "cell_type": "markdown",
   "metadata": {},
   "source": [
    "## Key points\n",
    "- Jupyter Notebooks excels at [literate programming](https://en.wikipedia.org/wiki/Literate_programming)\n",
    "- Code, text, equations, figures, etc. can be interleaved, creating a *computational narrative*\n",
    "- Many features of IDEs: code completion, easy access to help\n",
    "- Keyboard shortcuts can save you time and protect your wrists\n",
    "- Cells can be executed in any order, beware of out-of-order execution bugs!\n",
    "- `nbdime`, `jupyterlab-git` and `jupyterlab/github` help you track notebooks with Git\n",
    "\n",
    "\n"
   ]
  }
 ],
 "metadata": {
  "kernelspec": {
   "display_name": "Python 3",
   "language": "python",
   "name": "python3"
  },
  "language_info": {
   "codemirror_mode": {
    "name": "ipython",
    "version": 3
   },
   "file_extension": ".py",
   "mimetype": "text/x-python",
   "name": "python",
   "nbconvert_exporter": "python",
   "pygments_lexer": "ipython3",
   "version": "3.6.7"
  }
 },
 "nbformat": 4,
 "nbformat_minor": 2
}
