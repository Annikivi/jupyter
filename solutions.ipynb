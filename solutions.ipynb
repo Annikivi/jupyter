{
 "cells": [
  {
   "cell_type": "markdown",
   "metadata": {},
   "source": [
    "# Solutions to exercises"
   ]
  },
  {
   "cell_type": "markdown",
   "metadata": {},
   "source": [
    "### <font color=\"red\"> *Exercise 1:* Widgets for interactive data fitting </font>"
   ]
  },
  {
   "cell_type": "code",
   "execution_count": 1,
   "metadata": {},
   "outputs": [
    {
     "data": {
      "application/vnd.jupyter.widget-view+json": {
       "model_id": "507fc8f4df9f4346b07ffe2cfbe9d384",
       "version_major": 2,
       "version_minor": 0
      },
      "text/plain": [
       "interactive(children=(IntSlider(value=16, description='n', max=30, min=3), Output()), _dom_classes=('widget-in…"
      ]
     },
     "metadata": {},
     "output_type": "display_data"
    }
   ],
   "source": [
    "import numpy as np\n",
    "from ipywidgets import interact\n",
    "import matplotlib.pyplot as plt\n",
    "%matplotlib inline\n",
    "\n",
    "\n",
    "# gaussian function\n",
    "def gauss(x,param):\n",
    "    [a,b,c] = param\n",
    "    return a*np.exp(-b*(x-c)**2)\n",
    "\n",
    "# gaussian array y in interval -5<x-5 \n",
    "nx = 100\n",
    "x = np.linspace(-5.,5.,nx)\n",
    "p = [2.0,0.5,1.5] # some parameters\n",
    "y = gauss(x,p)\n",
    "\n",
    "# add some noise\n",
    "noise = np.random.normal(0,0.2,nx)\n",
    "y += noise\n",
    "\n",
    "@interact\n",
    "def fit(n=(3,30)):\n",
    "    pfit = np.polyfit(x,y,n)\n",
    "    yfit = np.polyval(pfit,x)\n",
    "    plt.plot(x,y,\"r\",label=\"Data\")\n",
    "    plt.plot(x,yfit,\"b\",label=\"Fit\")\n",
    "    plt.legend()\n",
    "    plt.ylim(-0.5,2.5)\n",
    "    plt.show()"
   ]
  },
  {
   "cell_type": "markdown",
   "metadata": {},
   "source": [
    "### <font color=\"red\"> *Exercise 2a:* Cell profiling </font>"
   ]
  },
  {
   "cell_type": "markdown",
   "metadata": {},
   "source": [
    "First use the `%load` magic"
   ]
  },
  {
   "cell_type": "code",
   "execution_count": null,
   "metadata": {},
   "outputs": [],
   "source": [
    "# %load random_walk.py"
   ]
  },
  {
   "cell_type": "markdown",
   "metadata": {},
   "source": [
    "Split the code over multiple cells (e.g. using `Ctrl-Shift-minus`)"
   ]
  },
  {
   "cell_type": "code",
   "execution_count": 7,
   "metadata": {},
   "outputs": [],
   "source": [
    "import numpy as np"
   ]
  },
  {
   "cell_type": "code",
   "execution_count": 8,
   "metadata": {},
   "outputs": [],
   "source": [
    "def step():\n",
    "    import random\n",
    "    return 1. if random.random() > .5 else -1."
   ]
  },
  {
   "cell_type": "code",
   "execution_count": 9,
   "metadata": {},
   "outputs": [],
   "source": [
    "def walk(n):\n",
    "    x = np.zeros(n)\n",
    "    dx = 1. / n\n",
    "    for i in range(n - 1):\n",
    "        x_new = x[i] + dx * step()\n",
    "        if x_new > 5e-3:\n",
    "            x[i + 1] = 0.\n",
    "        else:\n",
    "            x[i + 1] = x_new\n",
    "    return x"
   ]
  },
  {
   "cell_type": "markdown",
   "metadata": {},
   "source": [
    "Initialize `n` and call `walk()`"
   ]
  },
  {
   "cell_type": "code",
   "execution_count": 10,
   "metadata": {},
   "outputs": [],
   "source": [
    "n = 100000\n",
    "x = walk(n)"
   ]
  },
  {
   "cell_type": "markdown",
   "metadata": {},
   "source": [
    "Plot the random walk"
   ]
  },
  {
   "cell_type": "code",
   "execution_count": 11,
   "metadata": {},
   "outputs": [
    {
     "data": {
      "image/png": "[encoded data removed]",
      "text/plain": [
       "<Figure size 432x288 with 1 Axes>"
      ]
     },
     "metadata": {},
     "output_type": "display_data"
    }
   ],
   "source": [
    "import matplotlib.pyplot as plt\n",
    "plt.plot(x);"
   ]
  },
  {
   "cell_type": "markdown",
   "metadata": {},
   "source": [
    "Time the execution using the `%timeit` line magic"
   ]
  },
  {
   "cell_type": "code",
   "execution_count": 12,
   "metadata": {},
   "outputs": [
    {
     "name": "stdout",
     "output_type": "stream",
     "text": [
      "82.3 ms ± 1.64 ms per loop (mean ± std. dev. of 7 runs, 10 loops each)\n"
     ]
    }
   ],
   "source": [
    "t1 = %timeit -o walk(n)"
   ]
  },
  {
   "cell_type": "markdown",
   "metadata": {},
   "source": [
    "Best result"
   ]
  },
  {
   "cell_type": "code",
   "execution_count": 13,
   "metadata": {},
   "outputs": [
    {
     "data": {
      "text/plain": [
       "0.07941211669822223"
      ]
     },
     "execution_count": 13,
     "metadata": {},
     "output_type": "execute_result"
    }
   ],
   "source": [
    "t1.best"
   ]
  },
  {
   "cell_type": "markdown",
   "metadata": {},
   "source": [
    "Run with the `%%prun` cell profiler"
   ]
  },
  {
   "cell_type": "code",
   "execution_count": 14,
   "metadata": {},
   "outputs": [
    {
     "name": "stdout",
     "output_type": "stream",
     "text": [
      " "
     ]
    },
    {
     "data": {
      "text/plain": [
       "         200003 function calls in 0.118 seconds\n",
       "\n",
       "   Ordered by: internal time\n",
       "\n",
       "   ncalls  tottime  percall  cumtime  percall filename:lineno(function)\n",
       "        1    0.070    0.070    0.118    0.118 <ipython-input-9-94fe46e3b455>:1(walk)\n",
       "    99999    0.039    0.000    0.048    0.000 <ipython-input-8-ff94de0ee2d8>:1(step)\n",
       "    99999    0.008    0.000    0.008    0.000 {method 'random' of '_random.Random' objects}\n",
       "        1    0.001    0.001    0.001    0.001 {built-in method numpy.core.multiarray.zeros}\n",
       "        1    0.000    0.000    0.118    0.118 {built-in method builtins.exec}\n",
       "        1    0.000    0.000    0.118    0.118 <string>:2(<module>)\n",
       "        1    0.000    0.000    0.000    0.000 {method 'disable' of '_lsprof.Profiler' objects}"
      ]
     },
     "metadata": {},
     "output_type": "display_data"
    }
   ],
   "source": [
    "%%prun\n",
    "walk(n)"
   ]
  },
  {
   "cell_type": "markdown",
   "metadata": {},
   "source": [
    "### <font color=\"red\"> *Exercise 2b:* Installing a magic command for line profiling </font>\n",
    "\n"
   ]
  },
  {
   "cell_type": "markdown",
   "metadata": {},
   "source": [
    "Install the line profiler"
   ]
  },
  {
   "cell_type": "code",
   "execution_count": null,
   "metadata": {},
   "outputs": [],
   "source": [
    "!pip install line_profiler"
   ]
  },
  {
   "cell_type": "markdown",
   "metadata": {},
   "source": [
    "Load the IPython extension"
   ]
  },
  {
   "cell_type": "code",
   "execution_count": 16,
   "metadata": {},
   "outputs": [],
   "source": [
    "%load_ext line_profiler"
   ]
  },
  {
   "cell_type": "markdown",
   "metadata": {},
   "source": [
    "Load the `random_walk.py` example"
   ]
  },
  {
   "cell_type": "code",
   "execution_count": 22,
   "metadata": {},
   "outputs": [],
   "source": [
    "%load random_walk.py"
   ]
  },
  {
   "cell_type": "markdown",
   "metadata": {},
   "source": [
    "Now run the line profiler.  \n",
    "Use the line profiler on all the functions:"
   ]
  },
  {
   "cell_type": "code",
   "execution_count": 23,
   "metadata": {},
   "outputs": [
    {
     "data": {
      "text/plain": [
       "Timer unit: 1e-06 s\n",
       "\n",
       "Total time: 0.98881 s\n",
       "File: <ipython-input-22-e9c3eba051c1>\n",
       "Function: main at line 4\n",
       "\n",
       "Line #      Hits         Time  Per Hit   % Time  Line Contents\n",
       "==============================================================\n",
       "     4                                           def main():\n",
       "     5         1        205.0    205.0      0.0      n = 100000\n",
       "     6         1     988605.0 988605.0    100.0      x = walk(n)\n",
       "\n",
       "Total time: 0.169478 s\n",
       "File: <ipython-input-22-e9c3eba051c1>\n",
       "Function: step at line 8\n",
       "\n",
       "Line #      Hits         Time  Per Hit   % Time  Line Contents\n",
       "==============================================================\n",
       "     8                                           def step():\n",
       "     9     99999      88161.0      0.9     52.0      import random\n",
       "    10     99999      81317.0      0.8     48.0      return 1. if random.random() > .5 else -1.\n",
       "\n",
       "Total time: 0.738541 s\n",
       "File: <ipython-input-22-e9c3eba051c1>\n",
       "Function: walk at line 12\n",
       "\n",
       "Line #      Hits         Time  Per Hit   % Time  Line Contents\n",
       "==============================================================\n",
       "    12                                           def walk(n):\n",
       "    13         1        249.0    249.0      0.0      x = np.zeros(n)\n",
       "    14         1         13.0     13.0      0.0      dx = 1. / n\n",
       "    15    100000      68894.0      0.7      9.3      for i in range(n - 1):\n",
       "    16     99999     494694.0      4.9     67.0          x_new = x[i] + dx * step()\n",
       "    17     99999      84339.0      0.8     11.4          if x_new > 5e-3:\n",
       "    18                                                       x[i + 1] = 0.\n",
       "    19                                                   else:\n",
       "    20     99999      90352.0      0.9     12.2              x[i + 1] = x_new\n",
       "    21         1          0.0      0.0      0.0      return x"
      ]
     },
     "metadata": {},
     "output_type": "display_data"
    }
   ],
   "source": [
    "%lprun -f main -f walk -f step main()"
   ]
  },
  {
   "cell_type": "markdown",
   "metadata": {},
   "source": [
    "Can you spot the mistake?"
   ]
  },
  {
   "cell_type": "markdown",
   "metadata": {},
   "source": [
    "### <font color=\"red\"> *Exercise 3:* Data analysis with pandas dataframes </font>"
   ]
  },
  {
   "cell_type": "code",
   "execution_count": 20,
   "metadata": {},
   "outputs": [],
   "source": [
    "import numpy as np\n",
    "import pandas as pd\n",
    "nobel = pd.read_csv(\"data/nobels.csv\")"
   ]
  },
  {
   "cell_type": "code",
   "execution_count": 9,
   "metadata": {},
   "outputs": [
    {
     "data": {
      "text/plain": [
       "count    967.000000\n",
       "mean       2.002068\n",
       "std        0.929166\n",
       "min        1.000000\n",
       "25%        1.000000\n",
       "50%        2.000000\n",
       "75%        3.000000\n",
       "max        4.000000\n",
       "Name: share, dtype: float64"
      ]
     },
     "execution_count": 9,
     "metadata": {},
     "output_type": "execute_result"
    }
   ],
   "source": [
    "nobel[\"share\"].describe()"
   ]
  },
  {
   "cell_type": "code",
   "execution_count": 10,
   "metadata": {},
   "outputs": [
    {
     "data": {
      "text/plain": [
       "count     941\n",
       "unique     76\n",
       "top        US\n",
       "freq      275\n",
       "Name: bornCountryCode, dtype: object"
      ]
     },
     "execution_count": 10,
     "metadata": {},
     "output_type": "execute_result"
    }
   ],
   "source": [
    "nobel[\"bornCountryCode\"].describe()"
   ]
  },
  {
   "cell_type": "code",
   "execution_count": 11,
   "metadata": {},
   "outputs": [],
   "source": [
    "nobel[\"born\"] = pd.to_datetime(nobel[\"born\"], errors ='coerce')"
   ]
  },
  {
   "cell_type": "markdown",
   "metadata": {},
   "source": [
    "Add column"
   ]
  },
  {
   "cell_type": "code",
   "execution_count": 12,
   "metadata": {},
   "outputs": [],
   "source": [
    "nobel[\"age\"] = nobel[\"year\"] - nobel[\"born\"].dt.year"
   ]
  },
  {
   "cell_type": "markdown",
   "metadata": {},
   "source": [
    "Print surname and age"
   ]
  },
  {
   "cell_type": "code",
   "execution_count": 14,
   "metadata": {},
   "outputs": [
    {
     "data": {
      "text/html": [
       "<div>\n",
       "<style scoped>\n",
       "    .dataframe tbody tr th:only-of-type {\n",
       "        vertical-align: middle;\n",
       "    }\n",
       "\n",
       "    .dataframe tbody tr th {\n",
       "        vertical-align: top;\n",
       "    }\n",
       "\n",
       "    .dataframe thead th {\n",
       "        text-align: right;\n",
       "    }\n",
       "</style>\n",
       "<table border=\"1\" class=\"dataframe\">\n",
       "  <thead>\n",
       "    <tr style=\"text-align: right;\">\n",
       "      <th></th>\n",
       "      <th>surname</th>\n",
       "      <th>age</th>\n",
       "    </tr>\n",
       "  </thead>\n",
       "  <tbody>\n",
       "    <tr>\n",
       "      <th>0</th>\n",
       "      <td>Röntgen</td>\n",
       "      <td>56.0</td>\n",
       "    </tr>\n",
       "    <tr>\n",
       "      <th>1</th>\n",
       "      <td>Lorentz</td>\n",
       "      <td>49.0</td>\n",
       "    </tr>\n",
       "    <tr>\n",
       "      <th>2</th>\n",
       "      <td>Zeeman</td>\n",
       "      <td>37.0</td>\n",
       "    </tr>\n",
       "    <tr>\n",
       "      <th>3</th>\n",
       "      <td>Becquerel</td>\n",
       "      <td>51.0</td>\n",
       "    </tr>\n",
       "    <tr>\n",
       "      <th>4</th>\n",
       "      <td>Curie</td>\n",
       "      <td>44.0</td>\n",
       "    </tr>\n",
       "    <tr>\n",
       "      <th>5</th>\n",
       "      <td>Curie, née Sklodowska</td>\n",
       "      <td>36.0</td>\n",
       "    </tr>\n",
       "    <tr>\n",
       "      <th>6</th>\n",
       "      <td>Curie, née Sklodowska</td>\n",
       "      <td>44.0</td>\n",
       "    </tr>\n",
       "    <tr>\n",
       "      <th>7</th>\n",
       "      <td>(John William Strutt)</td>\n",
       "      <td>62.0</td>\n",
       "    </tr>\n",
       "    <tr>\n",
       "      <th>8</th>\n",
       "      <td>von Lenard</td>\n",
       "      <td>43.0</td>\n",
       "    </tr>\n",
       "    <tr>\n",
       "      <th>9</th>\n",
       "      <td>Thomson</td>\n",
       "      <td>50.0</td>\n",
       "    </tr>\n",
       "  </tbody>\n",
       "</table>\n",
       "</div>"
      ],
      "text/plain": [
       "                 surname   age\n",
       "0                Röntgen  56.0\n",
       "1                Lorentz  49.0\n",
       "2                 Zeeman  37.0\n",
       "3              Becquerel  51.0\n",
       "4                  Curie  44.0\n",
       "5  Curie, née Sklodowska  36.0\n",
       "6  Curie, née Sklodowska  44.0\n",
       "7  (John William Strutt)  62.0\n",
       "8             von Lenard  43.0\n",
       "9                Thomson  50.0"
      ]
     },
     "execution_count": 14,
     "metadata": {},
     "output_type": "execute_result"
    }
   ],
   "source": [
    "nobel[[\"surname\",\"age\"]].head(10)"
   ]
  },
  {
   "cell_type": "code",
   "execution_count": 17,
   "metadata": {},
   "outputs": [
    {
     "data": {
      "image/png": "[encoded data removed]",
      "text/plain": [
       "<Figure size 432x288 with 1 Axes>"
      ]
     },
     "metadata": {
      "needs_background": "light"
     },
     "output_type": "display_data"
    }
   ],
   "source": [
    "nobel[\"age\"].plot.hist(bins=\n",
    "                       [20,30,40,50,60,70,\n",
    "                        80,90,100],alpha=0.6);"
   ]
  },
  {
   "cell_type": "code",
   "execution_count": 18,
   "metadata": {},
   "outputs": [
    {
     "data": {
      "text/plain": [
       "<matplotlib.axes._subplots.AxesSubplot at 0x121de34e0>"
      ]
     },
     "execution_count": 18,
     "metadata": {},
     "output_type": "execute_result"
    },
    {
     "data": {
      "image/png": "[encoded data removed]",
      "text/plain": [
       "<Figure size 432x288 with 1 Axes>"
      ]
     },
     "metadata": {
      "needs_background": "light"
     },
     "output_type": "display_data"
    }
   ],
   "source": [
    "nobel.boxplot(column=\"age\", by=\"category\")"
   ]
  },
  {
   "cell_type": "markdown",
   "metadata": {},
   "source": [
    "Which Nobel laureates have been Swedish?"
   ]
  },
  {
   "cell_type": "code",
   "execution_count": 30,
   "metadata": {},
   "outputs": [
    {
     "data": {
      "text/html": [
       "<div>\n",
       "<style scoped>\n",
       "    .dataframe tbody tr th:only-of-type {\n",
       "        vertical-align: middle;\n",
       "    }\n",
       "\n",
       "    .dataframe tbody tr th {\n",
       "        vertical-align: top;\n",
       "    }\n",
       "\n",
       "    .dataframe thead th {\n",
       "        text-align: right;\n",
       "    }\n",
       "</style>\n",
       "<table border=\"1\" class=\"dataframe\">\n",
       "  <thead>\n",
       "    <tr style=\"text-align: right;\">\n",
       "      <th></th>\n",
       "      <th>id</th>\n",
       "      <th>firstname</th>\n",
       "      <th>surname</th>\n",
       "      <th>born</th>\n",
       "      <th>died</th>\n",
       "      <th>bornCountry</th>\n",
       "      <th>bornCountryCode</th>\n",
       "      <th>bornCity</th>\n",
       "      <th>diedCountry</th>\n",
       "      <th>diedCountryCode</th>\n",
       "      <th>...</th>\n",
       "      <th>gender</th>\n",
       "      <th>year</th>\n",
       "      <th>category</th>\n",
       "      <th>overallMotivation</th>\n",
       "      <th>share</th>\n",
       "      <th>motivation</th>\n",
       "      <th>name</th>\n",
       "      <th>city</th>\n",
       "      <th>country</th>\n",
       "      <th>number</th>\n",
       "    </tr>\n",
       "  </thead>\n",
       "  <tbody>\n",
       "    <tr>\n",
       "      <th>16</th>\n",
       "      <td>17</td>\n",
       "      <td>Nils Gustaf</td>\n",
       "      <td>Dalén</td>\n",
       "      <td>1869-11-30</td>\n",
       "      <td>1937-12-09</td>\n",
       "      <td>Sweden</td>\n",
       "      <td>SE</td>\n",
       "      <td>Stenstorp</td>\n",
       "      <td>Sweden</td>\n",
       "      <td>SE</td>\n",
       "      <td>...</td>\n",
       "      <td>male</td>\n",
       "      <td>1912.0</td>\n",
       "      <td>physics</td>\n",
       "      <td>NaN</td>\n",
       "      <td>1.0</td>\n",
       "      <td>\"for his invention of automatic regulators for...</td>\n",
       "      <td>Swedish Gas-Accumulator Co.</td>\n",
       "      <td>Lidingö-Stockholm</td>\n",
       "      <td>Sweden</td>\n",
       "      <td>1.0</td>\n",
       "    </tr>\n",
       "    <tr>\n",
       "      <th>28</th>\n",
       "      <td>29</td>\n",
       "      <td>Karl Manne Georg</td>\n",
       "      <td>Siegbahn</td>\n",
       "      <td>1886-12-03</td>\n",
       "      <td>1978-09-26</td>\n",
       "      <td>Sweden</td>\n",
       "      <td>SE</td>\n",
       "      <td>Lund</td>\n",
       "      <td>Sweden</td>\n",
       "      <td>SE</td>\n",
       "      <td>...</td>\n",
       "      <td>male</td>\n",
       "      <td>1924.0</td>\n",
       "      <td>physics</td>\n",
       "      <td>NaN</td>\n",
       "      <td>1.0</td>\n",
       "      <td>\"for his discoveries and research in the field...</td>\n",
       "      <td>Uppsala University</td>\n",
       "      <td>Uppsala</td>\n",
       "      <td>Sweden</td>\n",
       "      <td>1.0</td>\n",
       "    </tr>\n",
       "    <tr>\n",
       "      <th>95</th>\n",
       "      <td>91</td>\n",
       "      <td>Hannes Olof Gösta</td>\n",
       "      <td>Alfvén</td>\n",
       "      <td>1908-05-30</td>\n",
       "      <td>1995-04-02</td>\n",
       "      <td>Sweden</td>\n",
       "      <td>SE</td>\n",
       "      <td>Norrköping</td>\n",
       "      <td>Sweden</td>\n",
       "      <td>SE</td>\n",
       "      <td>...</td>\n",
       "      <td>male</td>\n",
       "      <td>1970.0</td>\n",
       "      <td>physics</td>\n",
       "      <td>NaN</td>\n",
       "      <td>2.0</td>\n",
       "      <td>\"for fundamental work and discoveries in magne...</td>\n",
       "      <td>Royal Institute of Technology</td>\n",
       "      <td>Stockholm</td>\n",
       "      <td>Sweden</td>\n",
       "      <td>1.0</td>\n",
       "    </tr>\n",
       "    <tr>\n",
       "      <th>124</th>\n",
       "      <td>120</td>\n",
       "      <td>Kai M.</td>\n",
       "      <td>Siegbahn</td>\n",
       "      <td>1918-04-20</td>\n",
       "      <td>2007-07-20</td>\n",
       "      <td>Sweden</td>\n",
       "      <td>SE</td>\n",
       "      <td>Lund</td>\n",
       "      <td>Sweden</td>\n",
       "      <td>SE</td>\n",
       "      <td>...</td>\n",
       "      <td>male</td>\n",
       "      <td>1981.0</td>\n",
       "      <td>physics</td>\n",
       "      <td>NaN</td>\n",
       "      <td>2.0</td>\n",
       "      <td>\"for his contribution to the development of hi...</td>\n",
       "      <td>Uppsala University</td>\n",
       "      <td>Uppsala</td>\n",
       "      <td>Sweden</td>\n",
       "      <td>1.0</td>\n",
       "    </tr>\n",
       "    <tr>\n",
       "      <th>168</th>\n",
       "      <td>162</td>\n",
       "      <td>Svante August</td>\n",
       "      <td>Arrhenius</td>\n",
       "      <td>1859-02-19</td>\n",
       "      <td>1927-10-02</td>\n",
       "      <td>Sweden</td>\n",
       "      <td>SE</td>\n",
       "      <td>Vik</td>\n",
       "      <td>Sweden</td>\n",
       "      <td>SE</td>\n",
       "      <td>...</td>\n",
       "      <td>male</td>\n",
       "      <td>1903.0</td>\n",
       "      <td>chemistry</td>\n",
       "      <td>NaN</td>\n",
       "      <td>1.0</td>\n",
       "      <td>\"in recognition of the extraordinary services ...</td>\n",
       "      <td>Stockholm University</td>\n",
       "      <td>Stockholm</td>\n",
       "      <td>Sweden</td>\n",
       "      <td>1.0</td>\n",
       "    </tr>\n",
       "    <tr>\n",
       "      <th>187</th>\n",
       "      <td>183</td>\n",
       "      <td>The (Theodor)</td>\n",
       "      <td>Svedberg</td>\n",
       "      <td>1884-08-30</td>\n",
       "      <td>1971-02-25</td>\n",
       "      <td>Sweden</td>\n",
       "      <td>SE</td>\n",
       "      <td>Fleräng</td>\n",
       "      <td>Sweden</td>\n",
       "      <td>SE</td>\n",
       "      <td>...</td>\n",
       "      <td>male</td>\n",
       "      <td>1926.0</td>\n",
       "      <td>chemistry</td>\n",
       "      <td>NaN</td>\n",
       "      <td>1.0</td>\n",
       "      <td>\"for his work on disperse systems\"</td>\n",
       "      <td>Uppsala University</td>\n",
       "      <td>Uppsala</td>\n",
       "      <td>Sweden</td>\n",
       "      <td>1.0</td>\n",
       "    </tr>\n",
       "    <tr>\n",
       "      <th>217</th>\n",
       "      <td>208</td>\n",
       "      <td>Arne Wilhelm Kaurin</td>\n",
       "      <td>Tiselius</td>\n",
       "      <td>1902-08-10</td>\n",
       "      <td>1971-10-29</td>\n",
       "      <td>Sweden</td>\n",
       "      <td>SE</td>\n",
       "      <td>Stockholm</td>\n",
       "      <td>Sweden</td>\n",
       "      <td>SE</td>\n",
       "      <td>...</td>\n",
       "      <td>male</td>\n",
       "      <td>1948.0</td>\n",
       "      <td>chemistry</td>\n",
       "      <td>NaN</td>\n",
       "      <td>1.0</td>\n",
       "      <td>\"for his research on electrophoresis and adsor...</td>\n",
       "      <td>Uppsala University</td>\n",
       "      <td>Uppsala</td>\n",
       "      <td>Sweden</td>\n",
       "      <td>1.0</td>\n",
       "    </tr>\n",
       "    <tr>\n",
       "      <th>320</th>\n",
       "      <td>305</td>\n",
       "      <td>Allvar</td>\n",
       "      <td>Gullstrand</td>\n",
       "      <td>1862-06-05</td>\n",
       "      <td>1930-07-28</td>\n",
       "      <td>Sweden</td>\n",
       "      <td>SE</td>\n",
       "      <td>Landskrona</td>\n",
       "      <td>Sweden</td>\n",
       "      <td>SE</td>\n",
       "      <td>...</td>\n",
       "      <td>male</td>\n",
       "      <td>1911.0</td>\n",
       "      <td>medicine</td>\n",
       "      <td>NaN</td>\n",
       "      <td>1.0</td>\n",
       "      <td>\"for his work on the dioptrics of the eye\"</td>\n",
       "      <td>Uppsala University</td>\n",
       "      <td>Uppsala</td>\n",
       "      <td>Sweden</td>\n",
       "      <td>1.0</td>\n",
       "    </tr>\n",
       "    <tr>\n",
       "      <th>378</th>\n",
       "      <td>359</td>\n",
       "      <td>Axel Hugo Theodor</td>\n",
       "      <td>Theorell</td>\n",
       "      <td>1903-07-06</td>\n",
       "      <td>1982-08-15</td>\n",
       "      <td>Sweden</td>\n",
       "      <td>SE</td>\n",
       "      <td>Linköping</td>\n",
       "      <td>Sweden</td>\n",
       "      <td>SE</td>\n",
       "      <td>...</td>\n",
       "      <td>male</td>\n",
       "      <td>1955.0</td>\n",
       "      <td>medicine</td>\n",
       "      <td>NaN</td>\n",
       "      <td>1.0</td>\n",
       "      <td>\"for his discoveries concerning the nature and...</td>\n",
       "      <td>Karolinska Institutet, Nobel Medical Institute</td>\n",
       "      <td>Stockholm</td>\n",
       "      <td>Sweden</td>\n",
       "      <td>1.0</td>\n",
       "    </tr>\n",
       "    <tr>\n",
       "      <th>415</th>\n",
       "      <td>395</td>\n",
       "      <td>Ulf</td>\n",
       "      <td>von Euler</td>\n",
       "      <td>1905-02-07</td>\n",
       "      <td>1983-03-09</td>\n",
       "      <td>Sweden</td>\n",
       "      <td>SE</td>\n",
       "      <td>Stockholm</td>\n",
       "      <td>Sweden</td>\n",
       "      <td>SE</td>\n",
       "      <td>...</td>\n",
       "      <td>male</td>\n",
       "      <td>1970.0</td>\n",
       "      <td>medicine</td>\n",
       "      <td>NaN</td>\n",
       "      <td>3.0</td>\n",
       "      <td>\"for their discoveries concerning the humoral ...</td>\n",
       "      <td>Karolinska Institutet</td>\n",
       "      <td>Stockholm</td>\n",
       "      <td>Sweden</td>\n",
       "      <td>1.0</td>\n",
       "    </tr>\n",
       "    <tr>\n",
       "      <th>445</th>\n",
       "      <td>424</td>\n",
       "      <td>Torsten N.</td>\n",
       "      <td>Wiesel</td>\n",
       "      <td>1924-06-03</td>\n",
       "      <td>0000-00-00</td>\n",
       "      <td>Sweden</td>\n",
       "      <td>SE</td>\n",
       "      <td>Uppsala</td>\n",
       "      <td>NaN</td>\n",
       "      <td>NaN</td>\n",
       "      <td>...</td>\n",
       "      <td>male</td>\n",
       "      <td>1981.0</td>\n",
       "      <td>medicine</td>\n",
       "      <td>NaN</td>\n",
       "      <td>4.0</td>\n",
       "      <td>\"for their discoveries concerning information ...</td>\n",
       "      <td>Harvard Medical School</td>\n",
       "      <td>Boston, MA</td>\n",
       "      <td>USA</td>\n",
       "      <td>1.0</td>\n",
       "    </tr>\n",
       "    <tr>\n",
       "      <th>446</th>\n",
       "      <td>425</td>\n",
       "      <td>Sune K.</td>\n",
       "      <td>Bergström</td>\n",
       "      <td>1916-01-10</td>\n",
       "      <td>2004-08-15</td>\n",
       "      <td>Sweden</td>\n",
       "      <td>SE</td>\n",
       "      <td>Stockholm</td>\n",
       "      <td>Sweden</td>\n",
       "      <td>SE</td>\n",
       "      <td>...</td>\n",
       "      <td>male</td>\n",
       "      <td>1982.0</td>\n",
       "      <td>medicine</td>\n",
       "      <td>NaN</td>\n",
       "      <td>3.0</td>\n",
       "      <td>\"for their discoveries concerning prostaglandi...</td>\n",
       "      <td>Karolinska Institutet</td>\n",
       "      <td>Stockholm</td>\n",
       "      <td>Sweden</td>\n",
       "      <td>1.0</td>\n",
       "    </tr>\n",
       "    <tr>\n",
       "      <th>447</th>\n",
       "      <td>426</td>\n",
       "      <td>Bengt I.</td>\n",
       "      <td>Samuelsson</td>\n",
       "      <td>1934-05-21</td>\n",
       "      <td>0000-00-00</td>\n",
       "      <td>Sweden</td>\n",
       "      <td>SE</td>\n",
       "      <td>Halmstad</td>\n",
       "      <td>NaN</td>\n",
       "      <td>NaN</td>\n",
       "      <td>...</td>\n",
       "      <td>male</td>\n",
       "      <td>1982.0</td>\n",
       "      <td>medicine</td>\n",
       "      <td>NaN</td>\n",
       "      <td>3.0</td>\n",
       "      <td>\"for their discoveries concerning prostaglandi...</td>\n",
       "      <td>Karolinska Institutet</td>\n",
       "      <td>Stockholm</td>\n",
       "      <td>Sweden</td>\n",
       "      <td>1.0</td>\n",
       "    </tr>\n",
       "    <tr>\n",
       "      <th>494</th>\n",
       "      <td>473</td>\n",
       "      <td>Klas Pontus</td>\n",
       "      <td>Arnoldson</td>\n",
       "      <td>1844-10-27</td>\n",
       "      <td>1916-02-20</td>\n",
       "      <td>Sweden</td>\n",
       "      <td>SE</td>\n",
       "      <td>Gothenburg</td>\n",
       "      <td>Sweden</td>\n",
       "      <td>SE</td>\n",
       "      <td>...</td>\n",
       "      <td>male</td>\n",
       "      <td>1908.0</td>\n",
       "      <td>peace</td>\n",
       "      <td>NaN</td>\n",
       "      <td>2.0</td>\n",
       "      <td>NaN</td>\n",
       "      <td>NaN</td>\n",
       "      <td>NaN</td>\n",
       "      <td>NaN</td>\n",
       "      <td>1.0</td>\n",
       "    </tr>\n",
       "    <tr>\n",
       "      <th>508</th>\n",
       "      <td>485</td>\n",
       "      <td>Karl Hjalmar</td>\n",
       "      <td>Branting</td>\n",
       "      <td>1860-11-23</td>\n",
       "      <td>1925-02-24</td>\n",
       "      <td>Sweden</td>\n",
       "      <td>SE</td>\n",
       "      <td>Stockholm</td>\n",
       "      <td>Sweden</td>\n",
       "      <td>SE</td>\n",
       "      <td>...</td>\n",
       "      <td>male</td>\n",
       "      <td>1921.0</td>\n",
       "      <td>peace</td>\n",
       "      <td>NaN</td>\n",
       "      <td>2.0</td>\n",
       "      <td>NaN</td>\n",
       "      <td>NaN</td>\n",
       "      <td>NaN</td>\n",
       "      <td>NaN</td>\n",
       "      <td>1.0</td>\n",
       "    </tr>\n",
       "    <tr>\n",
       "      <th>518</th>\n",
       "      <td>495</td>\n",
       "      <td>Lars Olof Jonathan (Nathan)</td>\n",
       "      <td>Söderblom</td>\n",
       "      <td>1866-01-15</td>\n",
       "      <td>1931-07-12</td>\n",
       "      <td>Sweden</td>\n",
       "      <td>SE</td>\n",
       "      <td>Trönö</td>\n",
       "      <td>Sweden</td>\n",
       "      <td>SE</td>\n",
       "      <td>...</td>\n",
       "      <td>male</td>\n",
       "      <td>1930.0</td>\n",
       "      <td>peace</td>\n",
       "      <td>NaN</td>\n",
       "      <td>1.0</td>\n",
       "      <td>NaN</td>\n",
       "      <td>NaN</td>\n",
       "      <td>NaN</td>\n",
       "      <td>NaN</td>\n",
       "      <td>1.0</td>\n",
       "    </tr>\n",
       "    <tr>\n",
       "      <th>543</th>\n",
       "      <td>520</td>\n",
       "      <td>Dag Hjalmar Agne Carl</td>\n",
       "      <td>Hammarskjöld</td>\n",
       "      <td>1905-07-29</td>\n",
       "      <td>1961-09-18</td>\n",
       "      <td>Sweden</td>\n",
       "      <td>SE</td>\n",
       "      <td>Jönköping</td>\n",
       "      <td>Northern Rhodesia (now Zambia)</td>\n",
       "      <td>ZM</td>\n",
       "      <td>...</td>\n",
       "      <td>male</td>\n",
       "      <td>1961.0</td>\n",
       "      <td>peace</td>\n",
       "      <td>NaN</td>\n",
       "      <td>1.0</td>\n",
       "      <td>NaN</td>\n",
       "      <td>NaN</td>\n",
       "      <td>NaN</td>\n",
       "      <td>NaN</td>\n",
       "      <td>1.0</td>\n",
       "    </tr>\n",
       "    <tr>\n",
       "      <th>563</th>\n",
       "      <td>543</td>\n",
       "      <td>Alva</td>\n",
       "      <td>Myrdal</td>\n",
       "      <td>1902-01-31</td>\n",
       "      <td>1986-02-01</td>\n",
       "      <td>Sweden</td>\n",
       "      <td>SE</td>\n",
       "      <td>Uppsala</td>\n",
       "      <td>Sweden</td>\n",
       "      <td>SE</td>\n",
       "      <td>...</td>\n",
       "      <td>female</td>\n",
       "      <td>1982.0</td>\n",
       "      <td>peace</td>\n",
       "      <td>NaN</td>\n",
       "      <td>2.0</td>\n",
       "      <td>NaN</td>\n",
       "      <td>NaN</td>\n",
       "      <td>NaN</td>\n",
       "      <td>NaN</td>\n",
       "      <td>1.0</td>\n",
       "    </tr>\n",
       "    <tr>\n",
       "      <th>598</th>\n",
       "      <td>579</td>\n",
       "      <td>Selma Ottilia Lovisa</td>\n",
       "      <td>Lagerlöf</td>\n",
       "      <td>1858-11-20</td>\n",
       "      <td>1940-03-16</td>\n",
       "      <td>Sweden</td>\n",
       "      <td>SE</td>\n",
       "      <td>Mårbacka</td>\n",
       "      <td>Sweden</td>\n",
       "      <td>SE</td>\n",
       "      <td>...</td>\n",
       "      <td>female</td>\n",
       "      <td>1909.0</td>\n",
       "      <td>literature</td>\n",
       "      <td>NaN</td>\n",
       "      <td>1.0</td>\n",
       "      <td>\"in appreciation of the lofty idealism, vivid ...</td>\n",
       "      <td>NaN</td>\n",
       "      <td>NaN</td>\n",
       "      <td>NaN</td>\n",
       "      <td>1.0</td>\n",
       "    </tr>\n",
       "    <tr>\n",
       "      <th>604</th>\n",
       "      <td>585</td>\n",
       "      <td>Carl Gustaf Verner</td>\n",
       "      <td>von Heidenstam</td>\n",
       "      <td>1859-07-06</td>\n",
       "      <td>1940-05-20</td>\n",
       "      <td>Sweden</td>\n",
       "      <td>SE</td>\n",
       "      <td>Olshammar</td>\n",
       "      <td>Sweden</td>\n",
       "      <td>SE</td>\n",
       "      <td>...</td>\n",
       "      <td>male</td>\n",
       "      <td>1916.0</td>\n",
       "      <td>literature</td>\n",
       "      <td>NaN</td>\n",
       "      <td>1.0</td>\n",
       "      <td>\"in recognition of his significance as the lea...</td>\n",
       "      <td>NaN</td>\n",
       "      <td>NaN</td>\n",
       "      <td>NaN</td>\n",
       "      <td>1.0</td>\n",
       "    </tr>\n",
       "    <tr>\n",
       "      <th>619</th>\n",
       "      <td>604</td>\n",
       "      <td>Erik Axel</td>\n",
       "      <td>Karlfeldt</td>\n",
       "      <td>1864-07-20</td>\n",
       "      <td>1931-04-08</td>\n",
       "      <td>Sweden</td>\n",
       "      <td>SE</td>\n",
       "      <td>Karlbo</td>\n",
       "      <td>Sweden</td>\n",
       "      <td>SE</td>\n",
       "      <td>...</td>\n",
       "      <td>male</td>\n",
       "      <td>1931.0</td>\n",
       "      <td>literature</td>\n",
       "      <td>NaN</td>\n",
       "      <td>1.0</td>\n",
       "      <td>\"The poetry of Erik Axel Karlfeldt\"</td>\n",
       "      <td>NaN</td>\n",
       "      <td>NaN</td>\n",
       "      <td>NaN</td>\n",
       "      <td>1.0</td>\n",
       "    </tr>\n",
       "    <tr>\n",
       "      <th>634</th>\n",
       "      <td>622</td>\n",
       "      <td>Pär Fabian</td>\n",
       "      <td>Lagerkvist</td>\n",
       "      <td>1891-05-23</td>\n",
       "      <td>1974-07-11</td>\n",
       "      <td>Sweden</td>\n",
       "      <td>SE</td>\n",
       "      <td>Växjö</td>\n",
       "      <td>Sweden</td>\n",
       "      <td>SE</td>\n",
       "      <td>...</td>\n",
       "      <td>male</td>\n",
       "      <td>1951.0</td>\n",
       "      <td>literature</td>\n",
       "      <td>NaN</td>\n",
       "      <td>1.0</td>\n",
       "      <td>\"for the artistic vigour and true independence...</td>\n",
       "      <td>NaN</td>\n",
       "      <td>NaN</td>\n",
       "      <td>NaN</td>\n",
       "      <td>1.0</td>\n",
       "    </tr>\n",
       "    <tr>\n",
       "      <th>658</th>\n",
       "      <td>649</td>\n",
       "      <td>Eyvind</td>\n",
       "      <td>Johnson</td>\n",
       "      <td>1900-07-29</td>\n",
       "      <td>1976-08-25</td>\n",
       "      <td>Sweden</td>\n",
       "      <td>SE</td>\n",
       "      <td>Svartbjörnsbyn</td>\n",
       "      <td>Sweden</td>\n",
       "      <td>SE</td>\n",
       "      <td>...</td>\n",
       "      <td>male</td>\n",
       "      <td>1974.0</td>\n",
       "      <td>literature</td>\n",
       "      <td>NaN</td>\n",
       "      <td>2.0</td>\n",
       "      <td>\"for a narrative art, far-seeing in lands and ...</td>\n",
       "      <td>NaN</td>\n",
       "      <td>NaN</td>\n",
       "      <td>NaN</td>\n",
       "      <td>1.0</td>\n",
       "    </tr>\n",
       "    <tr>\n",
       "      <th>659</th>\n",
       "      <td>650</td>\n",
       "      <td>Harry</td>\n",
       "      <td>Martinson</td>\n",
       "      <td>1904-05-06</td>\n",
       "      <td>1978-02-11</td>\n",
       "      <td>Sweden</td>\n",
       "      <td>SE</td>\n",
       "      <td>Jämshög</td>\n",
       "      <td>Sweden</td>\n",
       "      <td>SE</td>\n",
       "      <td>...</td>\n",
       "      <td>male</td>\n",
       "      <td>1974.0</td>\n",
       "      <td>literature</td>\n",
       "      <td>NaN</td>\n",
       "      <td>2.0</td>\n",
       "      <td>\"for writings that catch the dewdrop and refle...</td>\n",
       "      <td>NaN</td>\n",
       "      <td>NaN</td>\n",
       "      <td>NaN</td>\n",
       "      <td>1.0</td>\n",
       "    </tr>\n",
       "    <tr>\n",
       "      <th>692</th>\n",
       "      <td>684</td>\n",
       "      <td>Gunnar</td>\n",
       "      <td>Myrdal</td>\n",
       "      <td>1898-12-06</td>\n",
       "      <td>1987-05-17</td>\n",
       "      <td>Sweden</td>\n",
       "      <td>SE</td>\n",
       "      <td>Skattungbyn</td>\n",
       "      <td>Sweden</td>\n",
       "      <td>SE</td>\n",
       "      <td>...</td>\n",
       "      <td>male</td>\n",
       "      <td>1974.0</td>\n",
       "      <td>economics</td>\n",
       "      <td>NaN</td>\n",
       "      <td>2.0</td>\n",
       "      <td>\"for their pioneering work in the theory of mo...</td>\n",
       "      <td>NaN</td>\n",
       "      <td>NaN</td>\n",
       "      <td>NaN</td>\n",
       "      <td>1.0</td>\n",
       "    </tr>\n",
       "    <tr>\n",
       "      <th>697</th>\n",
       "      <td>689</td>\n",
       "      <td>Bertil</td>\n",
       "      <td>Ohlin</td>\n",
       "      <td>1899-04-23</td>\n",
       "      <td>1979-08-03</td>\n",
       "      <td>Sweden</td>\n",
       "      <td>SE</td>\n",
       "      <td>Klippan</td>\n",
       "      <td>Sweden</td>\n",
       "      <td>SE</td>\n",
       "      <td>...</td>\n",
       "      <td>male</td>\n",
       "      <td>1977.0</td>\n",
       "      <td>economics</td>\n",
       "      <td>NaN</td>\n",
       "      <td>2.0</td>\n",
       "      <td>\"for their pathbreaking contribution to the th...</td>\n",
       "      <td>Stockholm School of Economics</td>\n",
       "      <td>Stockholm</td>\n",
       "      <td>Sweden</td>\n",
       "      <td>1.0</td>\n",
       "    </tr>\n",
       "    <tr>\n",
       "      <th>731</th>\n",
       "      <td>722</td>\n",
       "      <td>Arvid</td>\n",
       "      <td>Carlsson</td>\n",
       "      <td>1923-01-25</td>\n",
       "      <td>0000-00-00</td>\n",
       "      <td>Sweden</td>\n",
       "      <td>SE</td>\n",
       "      <td>Uppsala</td>\n",
       "      <td>NaN</td>\n",
       "      <td>NaN</td>\n",
       "      <td>...</td>\n",
       "      <td>male</td>\n",
       "      <td>2000.0</td>\n",
       "      <td>medicine</td>\n",
       "      <td>NaN</td>\n",
       "      <td>3.0</td>\n",
       "      <td>\"for their discoveries concerning signal trans...</td>\n",
       "      <td>Göteborg University</td>\n",
       "      <td>Gothenburg</td>\n",
       "      <td>Sweden</td>\n",
       "      <td>1.0</td>\n",
       "    </tr>\n",
       "    <tr>\n",
       "      <th>893</th>\n",
       "      <td>868</td>\n",
       "      <td>Tomas</td>\n",
       "      <td>Tranströmer</td>\n",
       "      <td>1931-04-15</td>\n",
       "      <td>2015-03-26</td>\n",
       "      <td>Sweden</td>\n",
       "      <td>SE</td>\n",
       "      <td>Stockholm</td>\n",
       "      <td>Sweden</td>\n",
       "      <td>SE</td>\n",
       "      <td>...</td>\n",
       "      <td>male</td>\n",
       "      <td>2011.0</td>\n",
       "      <td>literature</td>\n",
       "      <td>NaN</td>\n",
       "      <td>1.0</td>\n",
       "      <td>\"because, through his condensed, translucent i...</td>\n",
       "      <td>NaN</td>\n",
       "      <td>NaN</td>\n",
       "      <td>NaN</td>\n",
       "      <td>1.0</td>\n",
       "    </tr>\n",
       "    <tr>\n",
       "      <th>956</th>\n",
       "      <td>921</td>\n",
       "      <td>Tomas</td>\n",
       "      <td>Lindahl</td>\n",
       "      <td>1938-01-28</td>\n",
       "      <td>0000-00-00</td>\n",
       "      <td>Sweden</td>\n",
       "      <td>SE</td>\n",
       "      <td>Stockholm</td>\n",
       "      <td>NaN</td>\n",
       "      <td>NaN</td>\n",
       "      <td>...</td>\n",
       "      <td>male</td>\n",
       "      <td>2015.0</td>\n",
       "      <td>chemistry</td>\n",
       "      <td>NaN</td>\n",
       "      <td>3.0</td>\n",
       "      <td>\"for mechanistic studies of DNA repair\"</td>\n",
       "      <td>Francis Crick Institute</td>\n",
       "      <td>Hertfordshire</td>\n",
       "      <td>United Kingdom</td>\n",
       "      <td>1.0</td>\n",
       "    </tr>\n",
       "  </tbody>\n",
       "</table>\n",
       "<p>29 rows × 21 columns</p>\n",
       "</div>"
      ],
      "text/plain": [
       "      id                    firstname         surname        born        died  \\\n",
       "16    17                  Nils Gustaf           Dalén  1869-11-30  1937-12-09   \n",
       "28    29             Karl Manne Georg        Siegbahn  1886-12-03  1978-09-26   \n",
       "95    91            Hannes Olof Gösta          Alfvén  1908-05-30  1995-04-02   \n",
       "124  120                       Kai M.        Siegbahn  1918-04-20  2007-07-20   \n",
       "168  162                Svante August       Arrhenius  1859-02-19  1927-10-02   \n",
       "187  183                The (Theodor)        Svedberg  1884-08-30  1971-02-25   \n",
       "217  208          Arne Wilhelm Kaurin        Tiselius  1902-08-10  1971-10-29   \n",
       "320  305                       Allvar      Gullstrand  1862-06-05  1930-07-28   \n",
       "378  359            Axel Hugo Theodor        Theorell  1903-07-06  1982-08-15   \n",
       "415  395                          Ulf       von Euler  1905-02-07  1983-03-09   \n",
       "445  424                   Torsten N.          Wiesel  1924-06-03  0000-00-00   \n",
       "446  425                      Sune K.       Bergström  1916-01-10  2004-08-15   \n",
       "447  426                     Bengt I.      Samuelsson  1934-05-21  0000-00-00   \n",
       "494  473                  Klas Pontus       Arnoldson  1844-10-27  1916-02-20   \n",
       "508  485                 Karl Hjalmar        Branting  1860-11-23  1925-02-24   \n",
       "518  495  Lars Olof Jonathan (Nathan)       Söderblom  1866-01-15  1931-07-12   \n",
       "543  520        Dag Hjalmar Agne Carl    Hammarskjöld  1905-07-29  1961-09-18   \n",
       "563  543                         Alva          Myrdal  1902-01-31  1986-02-01   \n",
       "598  579         Selma Ottilia Lovisa        Lagerlöf  1858-11-20  1940-03-16   \n",
       "604  585           Carl Gustaf Verner  von Heidenstam  1859-07-06  1940-05-20   \n",
       "619  604                    Erik Axel       Karlfeldt  1864-07-20  1931-04-08   \n",
       "634  622                   Pär Fabian      Lagerkvist  1891-05-23  1974-07-11   \n",
       "658  649                       Eyvind         Johnson  1900-07-29  1976-08-25   \n",
       "659  650                        Harry       Martinson  1904-05-06  1978-02-11   \n",
       "692  684                       Gunnar          Myrdal  1898-12-06  1987-05-17   \n",
       "697  689                       Bertil           Ohlin  1899-04-23  1979-08-03   \n",
       "731  722                        Arvid        Carlsson  1923-01-25  0000-00-00   \n",
       "893  868                        Tomas     Tranströmer  1931-04-15  2015-03-26   \n",
       "956  921                        Tomas         Lindahl  1938-01-28  0000-00-00   \n",
       "\n",
       "    bornCountry bornCountryCode        bornCity  \\\n",
       "16       Sweden              SE       Stenstorp   \n",
       "28       Sweden              SE            Lund   \n",
       "95       Sweden              SE      Norrköping   \n",
       "124      Sweden              SE            Lund   \n",
       "168      Sweden              SE             Vik   \n",
       "187      Sweden              SE         Fleräng   \n",
       "217      Sweden              SE       Stockholm   \n",
       "320      Sweden              SE      Landskrona   \n",
       "378      Sweden              SE       Linköping   \n",
       "415      Sweden              SE       Stockholm   \n",
       "445      Sweden              SE         Uppsala   \n",
       "446      Sweden              SE       Stockholm   \n",
       "447      Sweden              SE        Halmstad   \n",
       "494      Sweden              SE      Gothenburg   \n",
       "508      Sweden              SE       Stockholm   \n",
       "518      Sweden              SE           Trönö   \n",
       "543      Sweden              SE       Jönköping   \n",
       "563      Sweden              SE         Uppsala   \n",
       "598      Sweden              SE        Mårbacka   \n",
       "604      Sweden              SE       Olshammar   \n",
       "619      Sweden              SE          Karlbo   \n",
       "634      Sweden              SE           Växjö   \n",
       "658      Sweden              SE  Svartbjörnsbyn   \n",
       "659      Sweden              SE         Jämshög   \n",
       "692      Sweden              SE     Skattungbyn   \n",
       "697      Sweden              SE         Klippan   \n",
       "731      Sweden              SE         Uppsala   \n",
       "893      Sweden              SE       Stockholm   \n",
       "956      Sweden              SE       Stockholm   \n",
       "\n",
       "                        diedCountry diedCountryCode  ...    gender    year  \\\n",
       "16                           Sweden              SE  ...      male  1912.0   \n",
       "28                           Sweden              SE  ...      male  1924.0   \n",
       "95                           Sweden              SE  ...      male  1970.0   \n",
       "124                          Sweden              SE  ...      male  1981.0   \n",
       "168                          Sweden              SE  ...      male  1903.0   \n",
       "187                          Sweden              SE  ...      male  1926.0   \n",
       "217                          Sweden              SE  ...      male  1948.0   \n",
       "320                          Sweden              SE  ...      male  1911.0   \n",
       "378                          Sweden              SE  ...      male  1955.0   \n",
       "415                          Sweden              SE  ...      male  1970.0   \n",
       "445                             NaN             NaN  ...      male  1981.0   \n",
       "446                          Sweden              SE  ...      male  1982.0   \n",
       "447                             NaN             NaN  ...      male  1982.0   \n",
       "494                          Sweden              SE  ...      male  1908.0   \n",
       "508                          Sweden              SE  ...      male  1921.0   \n",
       "518                          Sweden              SE  ...      male  1930.0   \n",
       "543  Northern Rhodesia (now Zambia)              ZM  ...      male  1961.0   \n",
       "563                          Sweden              SE  ...    female  1982.0   \n",
       "598                          Sweden              SE  ...    female  1909.0   \n",
       "604                          Sweden              SE  ...      male  1916.0   \n",
       "619                          Sweden              SE  ...      male  1931.0   \n",
       "634                          Sweden              SE  ...      male  1951.0   \n",
       "658                          Sweden              SE  ...      male  1974.0   \n",
       "659                          Sweden              SE  ...      male  1974.0   \n",
       "692                          Sweden              SE  ...      male  1974.0   \n",
       "697                          Sweden              SE  ...      male  1977.0   \n",
       "731                             NaN             NaN  ...      male  2000.0   \n",
       "893                          Sweden              SE  ...      male  2011.0   \n",
       "956                             NaN             NaN  ...      male  2015.0   \n",
       "\n",
       "       category overallMotivation share  \\\n",
       "16      physics               NaN   1.0   \n",
       "28      physics               NaN   1.0   \n",
       "95      physics               NaN   2.0   \n",
       "124     physics               NaN   2.0   \n",
       "168   chemistry               NaN   1.0   \n",
       "187   chemistry               NaN   1.0   \n",
       "217   chemistry               NaN   1.0   \n",
       "320    medicine               NaN   1.0   \n",
       "378    medicine               NaN   1.0   \n",
       "415    medicine               NaN   3.0   \n",
       "445    medicine               NaN   4.0   \n",
       "446    medicine               NaN   3.0   \n",
       "447    medicine               NaN   3.0   \n",
       "494       peace               NaN   2.0   \n",
       "508       peace               NaN   2.0   \n",
       "518       peace               NaN   1.0   \n",
       "543       peace               NaN   1.0   \n",
       "563       peace               NaN   2.0   \n",
       "598  literature               NaN   1.0   \n",
       "604  literature               NaN   1.0   \n",
       "619  literature               NaN   1.0   \n",
       "634  literature               NaN   1.0   \n",
       "658  literature               NaN   2.0   \n",
       "659  literature               NaN   2.0   \n",
       "692   economics               NaN   2.0   \n",
       "697   economics               NaN   2.0   \n",
       "731    medicine               NaN   3.0   \n",
       "893  literature               NaN   1.0   \n",
       "956   chemistry               NaN   3.0   \n",
       "\n",
       "                                            motivation  \\\n",
       "16   \"for his invention of automatic regulators for...   \n",
       "28   \"for his discoveries and research in the field...   \n",
       "95   \"for fundamental work and discoveries in magne...   \n",
       "124  \"for his contribution to the development of hi...   \n",
       "168  \"in recognition of the extraordinary services ...   \n",
       "187                 \"for his work on disperse systems\"   \n",
       "217  \"for his research on electrophoresis and adsor...   \n",
       "320         \"for his work on the dioptrics of the eye\"   \n",
       "378  \"for his discoveries concerning the nature and...   \n",
       "415  \"for their discoveries concerning the humoral ...   \n",
       "445  \"for their discoveries concerning information ...   \n",
       "446  \"for their discoveries concerning prostaglandi...   \n",
       "447  \"for their discoveries concerning prostaglandi...   \n",
       "494                                                NaN   \n",
       "508                                                NaN   \n",
       "518                                                NaN   \n",
       "543                                                NaN   \n",
       "563                                                NaN   \n",
       "598  \"in appreciation of the lofty idealism, vivid ...   \n",
       "604  \"in recognition of his significance as the lea...   \n",
       "619                \"The poetry of Erik Axel Karlfeldt\"   \n",
       "634  \"for the artistic vigour and true independence...   \n",
       "658  \"for a narrative art, far-seeing in lands and ...   \n",
       "659  \"for writings that catch the dewdrop and refle...   \n",
       "692  \"for their pioneering work in the theory of mo...   \n",
       "697  \"for their pathbreaking contribution to the th...   \n",
       "731  \"for their discoveries concerning signal trans...   \n",
       "893  \"because, through his condensed, translucent i...   \n",
       "956            \"for mechanistic studies of DNA repair\"   \n",
       "\n",
       "                                               name               city  \\\n",
       "16                      Swedish Gas-Accumulator Co.  Lidingö-Stockholm   \n",
       "28                               Uppsala University            Uppsala   \n",
       "95                    Royal Institute of Technology          Stockholm   \n",
       "124                              Uppsala University            Uppsala   \n",
       "168                            Stockholm University          Stockholm   \n",
       "187                              Uppsala University            Uppsala   \n",
       "217                              Uppsala University            Uppsala   \n",
       "320                              Uppsala University            Uppsala   \n",
       "378  Karolinska Institutet, Nobel Medical Institute          Stockholm   \n",
       "415                           Karolinska Institutet          Stockholm   \n",
       "445                          Harvard Medical School         Boston, MA   \n",
       "446                           Karolinska Institutet          Stockholm   \n",
       "447                           Karolinska Institutet          Stockholm   \n",
       "494                                             NaN                NaN   \n",
       "508                                             NaN                NaN   \n",
       "518                                             NaN                NaN   \n",
       "543                                             NaN                NaN   \n",
       "563                                             NaN                NaN   \n",
       "598                                             NaN                NaN   \n",
       "604                                             NaN                NaN   \n",
       "619                                             NaN                NaN   \n",
       "634                                             NaN                NaN   \n",
       "658                                             NaN                NaN   \n",
       "659                                             NaN                NaN   \n",
       "692                                             NaN                NaN   \n",
       "697                   Stockholm School of Economics          Stockholm   \n",
       "731                             Göteborg University         Gothenburg   \n",
       "893                                             NaN                NaN   \n",
       "956                         Francis Crick Institute      Hertfordshire   \n",
       "\n",
       "            country number  \n",
       "16           Sweden    1.0  \n",
       "28           Sweden    1.0  \n",
       "95           Sweden    1.0  \n",
       "124          Sweden    1.0  \n",
       "168          Sweden    1.0  \n",
       "187          Sweden    1.0  \n",
       "217          Sweden    1.0  \n",
       "320          Sweden    1.0  \n",
       "378          Sweden    1.0  \n",
       "415          Sweden    1.0  \n",
       "445             USA    1.0  \n",
       "446          Sweden    1.0  \n",
       "447          Sweden    1.0  \n",
       "494             NaN    1.0  \n",
       "508             NaN    1.0  \n",
       "518             NaN    1.0  \n",
       "543             NaN    1.0  \n",
       "563             NaN    1.0  \n",
       "598             NaN    1.0  \n",
       "604             NaN    1.0  \n",
       "619             NaN    1.0  \n",
       "634             NaN    1.0  \n",
       "658             NaN    1.0  \n",
       "659             NaN    1.0  \n",
       "692             NaN    1.0  \n",
       "697          Sweden    1.0  \n",
       "731          Sweden    1.0  \n",
       "893             NaN    1.0  \n",
       "956  United Kingdom    1.0  \n",
       "\n",
       "[29 rows x 21 columns]"
      ]
     },
     "execution_count": 30,
     "metadata": {},
     "output_type": "execute_result"
    }
   ],
   "source": [
    "nobel.loc[nobel[\"bornCountry\"] == \"Sweden\"]"
   ]
  },
  {
   "cell_type": "markdown",
   "metadata": {},
   "source": [
    "Finally, try the powerful `groupby()` method.  \n",
    "Start by adding a column:"
   ]
  },
  {
   "cell_type": "code",
   "execution_count": 25,
   "metadata": {},
   "outputs": [],
   "source": [
    "nobel[\"number\"] = 1.0"
   ]
  },
  {
   "cell_type": "code",
   "execution_count": 36,
   "metadata": {},
   "outputs": [],
   "source": [
    "countries = np.array([\"Sweden\", \"United Kingdom\", \"France\", \"Denmark\"])\n",
    "nobel2 = nobel.loc[nobel['bornCountry'].isin(countries)]"
   ]
  },
  {
   "cell_type": "markdown",
   "metadata": {},
   "source": [
    "Add extra column with number of Nobel prizes per row (needed for statistics)"
   ]
  },
  {
   "cell_type": "code",
   "execution_count": 37,
   "metadata": {},
   "outputs": [
    {
     "data": {
      "text/html": [
       "<div>\n",
       "<style scoped>\n",
       "    .dataframe tbody tr th:only-of-type {\n",
       "        vertical-align: middle;\n",
       "    }\n",
       "\n",
       "    .dataframe tbody tr th {\n",
       "        vertical-align: top;\n",
       "    }\n",
       "\n",
       "    .dataframe thead th {\n",
       "        text-align: right;\n",
       "    }\n",
       "</style>\n",
       "<table border=\"1\" class=\"dataframe\">\n",
       "  <thead>\n",
       "    <tr style=\"text-align: right;\">\n",
       "      <th>category</th>\n",
       "      <th>chemistry</th>\n",
       "      <th>economics</th>\n",
       "      <th>literature</th>\n",
       "      <th>medicine</th>\n",
       "      <th>peace</th>\n",
       "      <th>physics</th>\n",
       "    </tr>\n",
       "    <tr>\n",
       "      <th>bornCountry</th>\n",
       "      <th></th>\n",
       "      <th></th>\n",
       "      <th></th>\n",
       "      <th></th>\n",
       "      <th></th>\n",
       "      <th></th>\n",
       "    </tr>\n",
       "  </thead>\n",
       "  <tbody>\n",
       "    <tr>\n",
       "      <th>Denmark</th>\n",
       "      <td>1.0</td>\n",
       "      <td>NaN</td>\n",
       "      <td>4.0</td>\n",
       "      <td>3.0</td>\n",
       "      <td>1.0</td>\n",
       "      <td>2.0</td>\n",
       "    </tr>\n",
       "    <tr>\n",
       "      <th>France</th>\n",
       "      <td>10.0</td>\n",
       "      <td>3.0</td>\n",
       "      <td>11.0</td>\n",
       "      <td>12.0</td>\n",
       "      <td>9.0</td>\n",
       "      <td>8.0</td>\n",
       "    </tr>\n",
       "    <tr>\n",
       "      <th>Sweden</th>\n",
       "      <td>4.0</td>\n",
       "      <td>2.0</td>\n",
       "      <td>7.0</td>\n",
       "      <td>7.0</td>\n",
       "      <td>5.0</td>\n",
       "      <td>4.0</td>\n",
       "    </tr>\n",
       "    <tr>\n",
       "      <th>United Kingdom</th>\n",
       "      <td>22.0</td>\n",
       "      <td>7.0</td>\n",
       "      <td>6.0</td>\n",
       "      <td>26.0</td>\n",
       "      <td>5.0</td>\n",
       "      <td>22.0</td>\n",
       "    </tr>\n",
       "  </tbody>\n",
       "</table>\n",
       "</div>"
      ],
      "text/plain": [
       "category        chemistry  economics  literature  medicine  peace  physics\n",
       "bornCountry                                                               \n",
       "Denmark               1.0        NaN         4.0       3.0    1.0      2.0\n",
       "France               10.0        3.0        11.0      12.0    9.0      8.0\n",
       "Sweden                4.0        2.0         7.0       7.0    5.0      4.0\n",
       "United Kingdom       22.0        7.0         6.0      26.0    5.0     22.0"
      ]
     },
     "execution_count": 37,
     "metadata": {},
     "output_type": "execute_result"
    }
   ],
   "source": [
    "table = nobel2.pivot_table(values=\"number\", index=\"bornCountry\", \n",
    "                           columns=\"category\", aggfunc=np.sum)\n",
    "table"
   ]
  },
  {
   "cell_type": "markdown",
   "metadata": {},
   "source": [
    "Finally, heatmap visualization"
   ]
  },
  {
   "cell_type": "code",
   "execution_count": 38,
   "metadata": {},
   "outputs": [
    {
     "data": {
      "image/png": "[encoded data removed]",
      "text/plain": [
       "<Figure size 432x288 with 2 Axes>"
      ]
     },
     "metadata": {
      "needs_background": "light"
     },
     "output_type": "display_data"
    }
   ],
   "source": [
    "import seaborn as sns\n",
    "sns.heatmap(table,linewidths=.5, annot=True);"
   ]
  },
  {
   "cell_type": "markdown",
   "metadata": {},
   "source": [
    "### <font color=\"red\"> *Exercise 4:* Defining your own custom magic command </font>\n"
   ]
  },
  {
   "cell_type": "code",
   "execution_count": 2,
   "metadata": {},
   "outputs": [],
   "source": [
    "from IPython.core.magic import register_cell_magic"
   ]
  },
  {
   "cell_type": "code",
   "execution_count": 3,
   "metadata": {},
   "outputs": [],
   "source": [
    "def cpp(line, cell):\n",
    "    \"\"\"Compile, execute C++ code, and return the standard output.\"\"\"\n",
    "\n",
    "    # We first retrieve the current IPython interpreter instance.\n",
    "    ip = get_ipython()\n",
    "    # We define the source and executable filenames.\n",
    "    source_filename = '_temp.cpp'\n",
    "    program_filename = '_temp'\n",
    "    # We write the code to the C++ file.\n",
    "    with open(source_filename, 'w') as f:\n",
    "        f.write(cell)\n",
    "    # We compile the C++ code into an executable.\n",
    "    compile = ip.getoutput(\"g++ {0:s} -o {1:s}\".format(\n",
    "        source_filename, program_filename))\n",
    "    # We execute the executable and return the output.\n",
    "    output = ip.getoutput('./{0:s}'.format(program_filename))\n",
    "    print('\\n'.join(output))\n",
    "\n",
    "def load_ipython_extension(ipython):\n",
    "    ipython.register_magic_function(cpp,'cell')"
   ]
  },
  {
   "cell_type": "code",
   "execution_count": 5,
   "metadata": {},
   "outputs": [],
   "source": [
    "%load_ext cpp_ext"
   ]
  },
  {
   "cell_type": "code",
   "execution_count": 6,
   "metadata": {},
   "outputs": [
    {
     "name": "stdout",
     "output_type": "stream",
     "text": [
      "Hello, World!\n"
     ]
    }
   ],
   "source": [
    "%%cpp\n",
    "#include <iostream>\n",
    "using namespace std;\n",
    "\n",
    "int main() \n",
    "{\n",
    "    cout << \"Hello, World!\";\n",
    "    return 0;\n",
    "}"
   ]
  },
  {
   "cell_type": "markdown",
   "metadata": {},
   "source": [
    "### <font color=\"red\"> *Exercise 5:* Parallel Python with ipyparallel </font>"
   ]
  },
  {
   "cell_type": "code",
   "execution_count": 1,
   "metadata": {},
   "outputs": [
    {
     "name": "stdout",
     "output_type": "stream",
     "text": [
      "Waiting for connection file: ~/.ipython/profile_default/security/ipcontroller-client.json\n"
     ]
    },
    {
     "ename": "OSError",
     "evalue": "Connection file '~/.ipython/profile_default/security/ipcontroller-client.json' not found.\nYou have attempted to connect to an IPython Cluster but no Controller could be found.\nPlease double-check your configuration and ensure that a cluster is running.",
     "output_type": "error",
     "traceback": [
      "\u001b[0;31m---------------------------------------------------------------------------\u001b[0m",
      "\u001b[0;31mOSError\u001b[0m                                   Traceback (most recent call last)",
      "\u001b[0;32m<ipython-input-1-6df2fd7b6cf7>\u001b[0m in \u001b[0;36m<module>\u001b[0;34m\u001b[0m\n\u001b[1;32m      1\u001b[0m \u001b[0;32mimport\u001b[0m \u001b[0mipyparallel\u001b[0m \u001b[0;32mas\u001b[0m \u001b[0mipp\u001b[0m\u001b[0;34m\u001b[0m\u001b[0m\n\u001b[0;32m----> 2\u001b[0;31m \u001b[0mclient\u001b[0m \u001b[0;34m=\u001b[0m \u001b[0mipp\u001b[0m\u001b[0;34m.\u001b[0m\u001b[0mClient\u001b[0m\u001b[0;34m(\u001b[0m\u001b[0;34m)\u001b[0m\u001b[0;34m\u001b[0m\u001b[0m\n\u001b[0m\u001b[1;32m      3\u001b[0m \u001b[0mdview\u001b[0m \u001b[0;34m=\u001b[0m \u001b[0mclient\u001b[0m\u001b[0;34m[\u001b[0m\u001b[0;34m:\u001b[0m\u001b[0;34m]\u001b[0m\u001b[0;34m\u001b[0m\u001b[0m\n",
      "\u001b[0;32m~/anaconda2/envs/juplab/lib/python3.6/site-packages/ipyparallel/client/client.py\u001b[0m in \u001b[0;36m__init__\u001b[0;34m(self, url_file, profile, profile_dir, ipython_dir, context, debug, sshserver, sshkey, password, paramiko, timeout, cluster_id, **extra_args)\u001b[0m\n\u001b[1;32m    411\u001b[0m                         \u001b[0mno_file_msg\u001b[0m\u001b[0;34m,\u001b[0m\u001b[0;34m\u001b[0m\u001b[0m\n\u001b[1;32m    412\u001b[0m                     ])\n\u001b[0;32m--> 413\u001b[0;31m                     \u001b[0;32mraise\u001b[0m \u001b[0mIOError\u001b[0m\u001b[0;34m(\u001b[0m\u001b[0mmsg\u001b[0m\u001b[0;34m)\u001b[0m\u001b[0;34m\u001b[0m\u001b[0m\n\u001b[0m\u001b[1;32m    414\u001b[0m         \u001b[0;32mif\u001b[0m \u001b[0murl_file\u001b[0m \u001b[0;32mis\u001b[0m \u001b[0;32mNone\u001b[0m\u001b[0;34m:\u001b[0m\u001b[0;34m\u001b[0m\u001b[0m\n\u001b[1;32m    415\u001b[0m             \u001b[0;32mraise\u001b[0m \u001b[0mIOError\u001b[0m\u001b[0;34m(\u001b[0m\u001b[0mno_file_msg\u001b[0m\u001b[0;34m)\u001b[0m\u001b[0;34m\u001b[0m\u001b[0m\n",
      "\u001b[0;31mOSError\u001b[0m: Connection file '~/.ipython/profile_default/security/ipcontroller-client.json' not found.\nYou have attempted to connect to an IPython Cluster but no Controller could be found.\nPlease double-check your configuration and ensure that a cluster is running."
     ]
    }
   ],
   "source": [
    "import ipyparallel as ipp\n",
    "client = ipp.Client()\n",
    "dview = client[:]"
   ]
  },
  {
   "cell_type": "code",
   "execution_count": null,
   "metadata": {},
   "outputs": [],
   "source": [
    "from random import random\n",
    "from math import pi\n",
    "dview['random'] = random"
   ]
  },
  {
   "cell_type": "code",
   "execution_count": null,
   "metadata": {},
   "outputs": [],
   "source": [
    "def mcpi(nsamples):\n",
    "    s = 0\n",
    "    for i in range(nsamples):\n",
    "        x = random()\n",
    "        y = random()\n",
    "        if x*x + y*y <= 1:\n",
    "            s+=1\n",
    "    return 4.*s/nsamples"
   ]
  },
  {
   "cell_type": "code",
   "execution_count": null,
   "metadata": {},
   "outputs": [],
   "source": [
    "%%timeit -n 1\n",
    "mcpi(int(1e7))"
   ]
  },
  {
   "cell_type": "code",
   "execution_count": null,
   "metadata": {},
   "outputs": [],
   "source": [
    "def multi_mcpi(view, nsamples):\n",
    "    p = len(view.targets)\n",
    "    if nsamples % p:\n",
    "        # ensure even divisibility\n",
    "        nsamples += p - (nsamples%p)\n",
    "    \n",
    "    subsamples = nsamples//p\n",
    "    \n",
    "    ar = view.apply(mcpi, subsamples)\n",
    "    return sum(ar)/p"
   ]
  },
  {
   "cell_type": "code",
   "execution_count": null,
   "metadata": {},
   "outputs": [],
   "source": [
    "%%timeit -n 1\n",
    "multi_mcpi(dview, int(1e7))"
   ]
  },
  {
   "cell_type": "markdown",
   "metadata": {},
   "source": [
    "## Lesson 3 - accelerating python"
   ]
  },
  {
   "cell_type": "code",
   "execution_count": null,
   "metadata": {},
   "outputs": [],
   "source": [
    "import math\n",
    "import random\n",
    "import numpy as np\n",
    "import matplotlib.pyplot as plt\n",
    "import seaborn\n",
    "%matplotlib inline"
   ]
  },
  {
   "cell_type": "markdown",
   "metadata": {},
   "source": [
    "### Exercise 3.2"
   ]
  },
  {
   "cell_type": "code",
   "execution_count": null,
   "metadata": {},
   "outputs": [],
   "source": [
    "def primes(kmax):  \n",
    "    p = []\n",
    "    result = []  \n",
    "    if kmax > 1000:\n",
    "        kmax = 1000\n",
    "    k = 0\n",
    "    n = 2\n",
    "    while k < kmax:\n",
    "        i = 0\n",
    "        while i < k and n % p[i] != 0:\n",
    "            i = i + 1\n",
    "        if i == k:\n",
    "            p.append(n)\n",
    "            k = k + 1\n",
    "            result.append(n)\n",
    "        n = n + 1\n",
    "    return result"
   ]
  },
  {
   "cell_type": "code",
   "execution_count": null,
   "metadata": {},
   "outputs": [],
   "source": [
    "t_py = %timeit -o p = primes(100)"
   ]
  },
  {
   "cell_type": "code",
   "execution_count": null,
   "metadata": {},
   "outputs": [],
   "source": [
    "%load_ext Cython"
   ]
  },
  {
   "cell_type": "markdown",
   "metadata": {},
   "source": [
    "Start with simplest cython"
   ]
  },
  {
   "cell_type": "code",
   "execution_count": null,
   "metadata": {},
   "outputs": [],
   "source": [
    "%%cython -a\n",
    "def primes_simplecython(kmax):  \n",
    "    p = []\n",
    "    result = []  \n",
    "    if kmax > 1000:\n",
    "        kmax = 1000\n",
    "    k = 0\n",
    "    n = 2\n",
    "    while k < kmax:\n",
    "        i = 0\n",
    "        while i < k and n % p[i] != 0:\n",
    "            i = i + 1\n",
    "        if i == k:\n",
    "            p.append(n)\n",
    "            k = k + 1\n",
    "            result.append(n)\n",
    "        n = n + 1\n",
    "    return result"
   ]
  },
  {
   "cell_type": "code",
   "execution_count": null,
   "metadata": {},
   "outputs": [],
   "source": [
    "t_cy0 = %timeit -o p = primes_simplecython(100)"
   ]
  },
  {
   "cell_type": "markdown",
   "metadata": {},
   "source": [
    "Now for proper cythonization. Add annotation (`-a`) if you want!"
   ]
  },
  {
   "cell_type": "code",
   "execution_count": null,
   "metadata": {},
   "outputs": [],
   "source": [
    "%%cython -a\n",
    "def primes_cython(int kmax):  # The argument will be converted to int or raise a TypeError.\n",
    "    cdef int n, k, i  # These variables are declared with C types.\n",
    "    cdef int p[1000]  # Another C type\n",
    "    result = []  # A Python type\n",
    "    if kmax > 1000:\n",
    "        kmax = 1000\n",
    "    k = 0\n",
    "    n = 2\n",
    "    while k < kmax:\n",
    "        i = 0\n",
    "        while i < k and n % p[i] != 0:\n",
    "            i = i + 1\n",
    "        if i == k:\n",
    "            p[k] = n\n",
    "            k = k + 1\n",
    "            result.append(n)\n",
    "        n = n + 1\n",
    "    return result"
   ]
  },
  {
   "cell_type": "code",
   "execution_count": null,
   "metadata": {},
   "outputs": [],
   "source": [
    "t_cy = %timeit -o p = primes_cython(100)"
   ]
  },
  {
   "cell_type": "markdown",
   "metadata": {},
   "source": [
    "Factor 20 in speedup"
   ]
  },
  {
   "cell_type": "markdown",
   "metadata": {},
   "source": [
    "Finally, let's compare with just-in-time compilation with numba"
   ]
  },
  {
   "cell_type": "code",
   "execution_count": null,
   "metadata": {},
   "outputs": [],
   "source": [
    "from numba import jit, vectorize, float64"
   ]
  },
  {
   "cell_type": "code",
   "execution_count": null,
   "metadata": {},
   "outputs": [],
   "source": [
    "@jit\n",
    "def primes_jit(kmax):  \n",
    "    p = []\n",
    "    result = []  \n",
    "    if kmax > 1000:\n",
    "        kmax = 1000\n",
    "    k = 0\n",
    "    n = 2\n",
    "    while k < kmax:\n",
    "        i = 0\n",
    "        while i < k and n % p[i] != 0:\n",
    "            i = i + 1\n",
    "        if i == k:\n",
    "            p.append(n)\n",
    "            k = k + 1\n",
    "            result.append(n)\n",
    "        n = n + 1\n",
    "    return result"
   ]
  },
  {
   "cell_type": "code",
   "execution_count": null,
   "metadata": {},
   "outputs": [],
   "source": [
    "t_jit = %timeit -o p = primes_jit(100)"
   ]
  },
  {
   "cell_type": "code",
   "execution_count": null,
   "metadata": {},
   "outputs": [],
   "source": [
    "print(\" Python: %.3E\\n Simply Cython: %.3E\\n Proper Cython: %.3E\\n Numba-jit: %.3E\"%(t_py.best,t_cy0.best,t_cy.best,t_jit.best))"
   ]
  },
  {
   "cell_type": "markdown",
   "metadata": {},
   "source": [
    "Just-in-time compilation comes close to Cython"
   ]
  },
  {
   "cell_type": "markdown",
   "metadata": {},
   "source": [
    "Notice that the slowest run took much much longer than the fastest.  \n",
    "`cache=True` stores the compiled function in file-based cache and avoids re-compilation on re-running\n"
   ]
  },
  {
   "cell_type": "code",
   "execution_count": null,
   "metadata": {},
   "outputs": [],
   "source": [
    "@jit(cache=True)\n",
    "def primes_jit2(kmax):  \n",
    "    p = []\n",
    "    result = []  \n",
    "    if kmax > 1000:\n",
    "        kmax = 1000\n",
    "    k = 0\n",
    "    n = 2\n",
    "    while k < kmax:\n",
    "        i = 0\n",
    "        while i < k and n % p[i] != 0:\n",
    "            i = i + 1\n",
    "        if i == k:\n",
    "            p.append(n)\n",
    "            k = k + 1\n",
    "            result.append(n)\n",
    "        n = n + 1\n",
    "    return result"
   ]
  },
  {
   "cell_type": "code",
   "execution_count": null,
   "metadata": {},
   "outputs": [],
   "source": [
    "%%timeit\n",
    "p = primes_jit2(100)"
   ]
  },
  {
   "cell_type": "code",
   "execution_count": null,
   "metadata": {},
   "outputs": [],
   "source": []
  }
 ],
 "metadata": {
  "kernelspec": {
   "display_name": "Python (JupLab)",
   "language": "python",
   "name": "juplab"
  },
  "language_info": {
   "codemirror_mode": {
    "name": "ipython",
    "version": 3
   },
   "file_extension": ".py",
   "mimetype": "text/x-python",
   "name": "python",
   "nbconvert_exporter": "python",
   "pygments_lexer": "ipython3",
   "version": "3.6.6"
  },
  "widgets": {
   "state": {
    "11a5a88a495a4519a284fd950a9d7b6e": {
     "views": [
      {
       "cell_index": 7
      }
     ]
    }
   },
   "version": "1.2.0"
  }
 },
 "nbformat": 4,
 "nbformat_minor": 2
}
